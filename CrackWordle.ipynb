{
 "cells": [
  {
   "cell_type": "code",
   "execution_count": null,
   "id": "7f20b191",
   "metadata": {},
   "outputs": [],
   "source": [
    "import os, sys, subprocess\n",
    "import string\n",
    "letters = string.ascii_lowercase\n",
    "import matplotlib.pyplot as plt\n",
    "import numpy as np\n",
    "import re"
   ]
  },
  {
   "cell_type": "code",
   "execution_count": null,
   "id": "af6f29ef",
   "metadata": {},
   "outputs": [],
   "source": [
    "wordfile = open(\"words_alpha.txt\")\n",
    "all_words = wordfile.readlines()"
   ]
  },
  {
   "cell_type": "code",
   "execution_count": null,
   "id": "ac919f69",
   "metadata": {},
   "outputs": [],
   "source": [
    "def remove_newline(x):\n",
    "    return x.replace('\\n','')\n",
    "\n",
    "all_words = list(map(remove_newline, all_words))"
   ]
  },
  {
   "cell_type": "code",
   "execution_count": null,
   "id": "2faab2ea",
   "metadata": {},
   "outputs": [],
   "source": [
    "five_letter_words = sorted(list(set([w.lower() for w in all_words if len(w)==5 and w.isalpha()])))"
   ]
  },
  {
   "cell_type": "code",
   "execution_count": null,
   "id": "17a25805",
   "metadata": {},
   "outputs": [],
   "source": [
    "NW =  len(five_letter_words)\n",
    "print(\"Number of five letter words: \",NW)"
   ]
  },
  {
   "cell_type": "code",
   "execution_count": null,
   "id": "116c8922",
   "metadata": {},
   "outputs": [],
   "source": [
    "Letter_Freqs = {}\n",
    "# Letter positions 1-5 represent the letters being in position 1-5 in the word. 0 means position agnostic\n",
    "for pos in range(6):\n",
    "    Letter_Freqs[pos] = {}\n",
    "    for letter in letters:\n",
    "        Letter_Freqs[pos][letter] = 0\n",
    "\n",
    "for word in five_letter_words:\n",
    "    for ii, letter in enumerate(word):\n",
    "        Letter_Freqs[ii+1][letter] += 1\n",
    "\n",
    "for letter in letters:\n",
    "    for pos in range(1,6):\n",
    "        Letter_Freqs[0][letter] += Letter_Freqs[pos][letter]"
   ]
  },
  {
   "cell_type": "code",
   "execution_count": null,
   "id": "881b831f",
   "metadata": {},
   "outputs": [],
   "source": [
    "width = 1\n",
    "colors = [\"gray\", \"red\", \"blue\", \"green\", \"gold\", \"magenta\"]\n",
    "plt.figure(figsize=(20,20))\n",
    "ind = np.arange(26)\n",
    "for pos in range(6):\n",
    "    these_freqs = []\n",
    "    for letter in letters:\n",
    "        these_freqs.append(Letter_Freqs[pos][letter])\n",
    "    plt.bar((ind*7 + pos)*width, \n",
    "            np.array(these_freqs)/np.sum(these_freqs), \n",
    "            width,\n",
    "            label = \"Letter Position: {}\".format(\"all\" if pos == 0 else pos),\n",
    "            color = colors[pos],\n",
    "           )\n",
    "plt.xticks((ind*7 + 3)*width, list(letters))\n",
    "plt.legend()\n",
    "plt.show()\n",
    "    "
   ]
  },
  {
   "cell_type": "code",
   "execution_count": null,
   "id": "37136987",
   "metadata": {},
   "outputs": [],
   "source": [
    "def wordle_score(target, attempt, debug = False):\n",
    "    if attempt == target:\n",
    "        return 10\n",
    "    score = 0\n",
    "    \n",
    "    matched_indices = [-1]*5     \n",
    "    full_matched_indices = []\n",
    "    full_matched_letters = []\n",
    "    part_matched_indices = []\n",
    "    part_matched_letters = []\n",
    "    for idx, l_a in enumerate(attempt):\n",
    "        #print(l_a)\n",
    "        if target[idx] == l_a:\n",
    "            score += 2\n",
    "            matched_indices[idx] = idx\n",
    "            full_matched_indices.append(idx)\n",
    "            full_matched_letters.append(l_a)\n",
    "\n",
    "    for idx, l_a in enumerate(attempt):\n",
    "        #print(l_a)\n",
    "        if l_a in target and idx not in full_matched_indices:\n",
    "            indices = [i.start() for i in re.finditer(l_a, target)]\n",
    "            for t_index in indices:\n",
    "                #if t_index not in part_matched_indices + full_matched_indices:\n",
    "                if t_index not in matched_indices:\n",
    "                    part_matched_indices.append(t_index)\n",
    "                    part_matched_letters.append(l_a)\n",
    "                    matched_indices[idx] = t_index\n",
    "                    score += 1\n",
    "                    break\n",
    "    if debug: \n",
    "        print(matched_indices)\n",
    "            \n",
    "    return score"
   ]
  },
  {
   "cell_type": "code",
   "execution_count": null,
   "id": "3b739767",
   "metadata": {},
   "outputs": [],
   "source": [
    "wordle_score(target = 'trust', attempt = 'issue', debug = True)"
   ]
  },
  {
   "cell_type": "code",
   "execution_count": null,
   "id": "e36b84da",
   "metadata": {},
   "outputs": [],
   "source": [
    "Score_Array = np.zeros((NW,NW))\n",
    "\n",
    "for ii in range(NW):\n",
    "    for jj in range(ii+1,NW):\n",
    "        Score_Array[ii,jj] = wordle_score(five_letter_words[ii], five_letter_words[jj])"
   ]
  },
  {
   "cell_type": "code",
   "execution_count": null,
   "id": "27c6dcdb",
   "metadata": {},
   "outputs": [],
   "source": [
    "Score_Sums = np.sum(Score_Array, axis = 1)\n",
    "indices = np.where(Score_Sums == max(Score_Sums))\n",
    "indices = list(np.array(indices).reshape(-1))\n",
    "\n",
    "print(\"Best First guess should be: **\" + five_letter_words[indices[0]].upper() + \"**\")"
   ]
  }
 ],
 "metadata": {
  "kernelspec": {
   "display_name": "Python 3 (ipykernel)",
   "language": "python",
   "name": "python3"
  },
  "language_info": {
   "codemirror_mode": {
    "name": "ipython",
    "version": 3
   },
   "file_extension": ".py",
   "mimetype": "text/x-python",
   "name": "python",
   "nbconvert_exporter": "python",
   "pygments_lexer": "ipython3",
   "version": "3.7.11"
  }
 },
 "nbformat": 4,
 "nbformat_minor": 5
}
